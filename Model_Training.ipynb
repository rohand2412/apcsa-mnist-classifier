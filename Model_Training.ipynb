{
  "nbformat": 4,
  "nbformat_minor": 0,
  "metadata": {
    "colab": {
      "name": "AMC_Model_Training.ipynb",
      "provenance": [],
      "collapsed_sections": []
    },
    "kernelspec": {
      "name": "python3",
      "display_name": "Python 3"
    },
    "language_info": {
      "name": "python"
    },
    "accelerator": "GPU"
  },
  "cells": [
    {
      "cell_type": "code",
      "execution_count": 1,
      "metadata": {
        "colab": {
          "base_uri": "https://localhost:8080/"
        },
        "id": "HGbIUGmQ4N4X",
        "outputId": "ddc1ed94-f5d0-42e4-94d4-53a33939c7f1"
      },
      "outputs": [
        {
          "output_type": "stream",
          "name": "stdout",
          "text": [
            "Drive already mounted at /content/gdrive; to attempt to forcibly remount, call drive.mount(\"/content/gdrive\", force_remount=True).\n"
          ]
        }
      ],
      "source": [
        "# import Tensorflow, Numpy, Matplotlib, and mount my google drive\n",
        "import tensorflow as tf\n",
        "import numpy as np\n",
        "import matplotlib.pyplot as plt\n",
        "%matplotlib inline\n",
        "\n",
        "from google.colab import drive\n",
        "drive.mount('/content/gdrive')"
      ]
    },
    {
      "cell_type": "code",
      "source": [
        "# Fetch the MNIST dataset\n",
        "(X_train, y_train), (X_test, y_test) = tf.keras.datasets.mnist.load_data()\n",
        "\n",
        "print(\"X_train shape\", X_train.shape)\n",
        "print(\"y_train shape\", y_train.shape)\n",
        "print(\"X_test shape\", X_test.shape)\n",
        "print(\"y_test shape\", y_test.shape)"
      ],
      "metadata": {
        "colab": {
          "base_uri": "https://localhost:8080/"
        },
        "id": "4ultGLyr5poj",
        "outputId": "2823cde4-d50d-4d5d-d7e4-54b2e77fe890"
      },
      "execution_count": 2,
      "outputs": [
        {
          "output_type": "stream",
          "name": "stdout",
          "text": [
            "X_train shape (60000, 28, 28)\n",
            "y_train shape (60000,)\n",
            "X_test shape (10000, 28, 28)\n",
            "y_test shape (10000,)\n"
          ]
        }
      ]
    },
    {
      "cell_type": "code",
      "source": [
        "# Display a training image\n",
        "plt.imshow(X_train[0],cmap='gray', vmin = 0, vmax = 255)\n",
        "print(X_train[0, 0, 0])"
      ],
      "metadata": {
        "colab": {
          "base_uri": "https://localhost:8080/",
          "height": 282
        },
        "id": "pSEHnk1UE6uK",
        "outputId": "5ac9c754-f0ba-4bc3-8a0f-71628ea7d207"
      },
      "execution_count": 3,
      "outputs": [
        {
          "output_type": "stream",
          "name": "stdout",
          "text": [
            "0\n"
          ]
        },
        {
          "output_type": "display_data",
          "data": {
            "text/plain": [
              "<Figure size 432x288 with 1 Axes>"
            ],
            "image/png": "[encoded data removed]"
          },
          "metadata": {
            "needs_background": "light"
          }
        }
      ]
    },
    {
      "cell_type": "code",
      "source": [
        "# Invert the dataset\n",
        "X_train = 255 - X_train\n",
        "X_test = 255 - X_test"
      ],
      "metadata": {
        "id": "WV7QlKvpJAvl"
      },
      "execution_count": 27,
      "outputs": []
    },
    {
      "cell_type": "code",
      "source": [
        "# Display the same training image as sanity check\n",
        "plt.imshow(X_train[0],cmap='gray', vmin = 0, vmax = 255)\n",
        "print(X_train[0, 0, 0])"
      ],
      "metadata": {
        "colab": {
          "base_uri": "https://localhost:8080/",
          "height": 282
        },
        "id": "cbZtEdwsJDOo",
        "outputId": "5b1b50fa-8c1d-4ffc-e31b-4bc84c9ba140"
      },
      "execution_count": 5,
      "outputs": [
        {
          "output_type": "stream",
          "name": "stdout",
          "text": [
            "255\n"
          ]
        },
        {
          "output_type": "display_data",
          "data": {
            "text/plain": [
              "<Figure size 432x288 with 1 Axes>"
            ],
            "image/png": "[encoded data removed]"
          },
          "metadata": {
            "needs_background": "light"
          }
        }
      ]
    },
    {
      "cell_type": "code",
      "source": [
        "# Add a dimension to the end of the train and test sets\n",
        "X_train = np.expand_dims(X_train, axis=-1)\n",
        "X_test = np.expand_dims(X_test, axis=-1)\n",
        "print(X_train.shape)\n",
        "print(X_test.shape)"
      ],
      "metadata": {
        "id": "vqHAncA29t38",
        "colab": {
          "base_uri": "https://localhost:8080/"
        },
        "outputId": "9b65c8f6-c8ac-482c-8f95-711a0ff56068"
      },
      "execution_count": 6,
      "outputs": [
        {
          "output_type": "stream",
          "name": "stdout",
          "text": [
            "(60000, 28, 28, 1)\n",
            "(10000, 28, 28, 1)\n"
          ]
        }
      ]
    },
    {
      "cell_type": "code",
      "source": [
        "# Utility variables\n",
        "dropout = 0.2\n",
        "conv = 3\n",
        "affine = 2"
      ],
      "metadata": {
        "id": "KvlqEVBY-ZBL"
      },
      "execution_count": 9,
      "outputs": []
    },
    {
      "cell_type": "code",
      "source": [
        "# Learning rate and Regularization optimization\n",
        "for _ in range(5):\n",
        "\n",
        "  # Randomly select a learning rate\n",
        "  lr = 10**np.random.uniform(-4, -2.3)\n",
        "\n",
        "  # Randomly select a regularization value\n",
        "  reg = 10**np.random.uniform(-5, -4)\n",
        "\n",
        "  # Print them out\n",
        "  print(\"lr: %f reg: %f\" % (lr, reg))\n",
        "\n",
        "  # Define the model as Sequential\n",
        "  model = tf.keras.models.Sequential()\n",
        "\n",
        "  # Define the input\n",
        "  model.add(tf.keras.layers.Input(shape=X_train.shape[1:]))\n",
        "\n",
        "  # Add a dropout layer\n",
        "  model.add(tf.keras.layers.Dropout(dropout))\n",
        "\n",
        "  # Add convolutions, pooling, and more dropout\n",
        "  for _ in range(conv):\n",
        "    model.add(tf.keras.layers.Conv2D(64, (3, 3), padding='same', activation='relu', kernel_regularizer=tf.keras.regularizers.L2(reg)))\n",
        "    model.add(tf.keras.layers.MaxPool2D())\n",
        "    model.add(tf.keras.layers.Dropout(dropout))\n",
        "\n",
        "  # Flatten for transition to affine layers\n",
        "  model.add(tf.keras.layers.Flatten())\n",
        "\n",
        "  # Add affine layers and more dropout\n",
        "  for _ in range(affine):\n",
        "    model.add(tf.keras.layers.Dense(128, activation='relu', kernel_regularizer=tf.keras.regularizers.L2(reg)))\n",
        "    model.add(tf.keras.layers.Dropout(dropout))\n",
        "\n",
        "  # Add output layer with softmax activation\n",
        "  model.add(tf.keras.layers.Dense(10, activation='softmax', kernel_regularizer=tf.keras.regularizers.L2(reg)))\n",
        "\n",
        "  # Set loss and optimizer\n",
        "  model.compile(loss='sparse_categorical_crossentropy', optimizer=tf.keras.optimizers.Adam(lr), metrics=['accuracy'])\n",
        "\n",
        "  # Train\n",
        "  model.fit(X_train, y_train, batch_size=32, epochs=10, validation_split=0.1, shuffle=True, verbose=1)"
      ],
      "metadata": {
        "id": "4MlQCaaoLURR",
        "colab": {
          "base_uri": "https://localhost:8080/"
        },
        "outputId": "054896e2-77d3-49be-b871-be79be043010"
      },
      "execution_count": 19,
      "outputs": [
        {
          "output_type": "stream",
          "name": "stdout",
          "text": [
            "lr: 0.002177 reg: 0.000015\n",
            "Epoch 1/10\n",
            "1688/1688 [==============================] - 10s 5ms/step - loss: 1.1749 - accuracy: 0.6549 - val_loss: 0.1991 - val_accuracy: 0.9590\n",
            "Epoch 2/10\n",
            "1688/1688 [==============================] - 8s 5ms/step - loss: 0.3894 - accuracy: 0.8894 - val_loss: 0.1961 - val_accuracy: 0.9555\n",
            "Epoch 3/10\n",
            "1688/1688 [==============================] - 8s 5ms/step - loss: 0.3526 - accuracy: 0.9037 - val_loss: 0.1866 - val_accuracy: 0.9598\n",
            "Epoch 4/10\n",
            "1688/1688 [==============================] - 8s 5ms/step - loss: 0.3402 - accuracy: 0.9148 - val_loss: 0.1439 - val_accuracy: 0.9693\n",
            "Epoch 5/10\n",
            "1688/1688 [==============================] - 8s 5ms/step - loss: 0.3598 - accuracy: 0.9119 - val_loss: 0.1495 - val_accuracy: 0.9682\n",
            "Epoch 6/10\n",
            "1688/1688 [==============================] - 9s 5ms/step - loss: 0.3569 - accuracy: 0.9145 - val_loss: 0.1745 - val_accuracy: 0.9662\n",
            "Epoch 7/10\n",
            "1688/1688 [==============================] - 9s 5ms/step - loss: 0.3713 - accuracy: 0.9144 - val_loss: 0.1705 - val_accuracy: 0.9677\n",
            "Epoch 8/10\n",
            "1688/1688 [==============================] - 8s 5ms/step - loss: 0.3634 - accuracy: 0.9190 - val_loss: 0.1809 - val_accuracy: 0.9695\n",
            "Epoch 9/10\n",
            "1688/1688 [==============================] - 8s 5ms/step - loss: 0.3662 - accuracy: 0.9201 - val_loss: 0.1706 - val_accuracy: 0.9705\n",
            "Epoch 10/10\n",
            "1688/1688 [==============================] - 8s 5ms/step - loss: 0.3596 - accuracy: 0.9227 - val_loss: 0.1568 - val_accuracy: 0.9735\n",
            "lr: 0.000643 reg: 0.000017\n",
            "Epoch 1/10\n",
            "1688/1688 [==============================] - 9s 5ms/step - loss: 1.6510 - accuracy: 0.4886 - val_loss: 0.3241 - val_accuracy: 0.9437\n",
            "Epoch 2/10\n",
            "1688/1688 [==============================] - 8s 5ms/step - loss: 0.4977 - accuracy: 0.8451 - val_loss: 0.2092 - val_accuracy: 0.9613\n",
            "Epoch 3/10\n",
            "1688/1688 [==============================] - 8s 5ms/step - loss: 0.3412 - accuracy: 0.8982 - val_loss: 0.1670 - val_accuracy: 0.9707\n",
            "Epoch 4/10\n",
            "1688/1688 [==============================] - 8s 5ms/step - loss: 0.2667 - accuracy: 0.9216 - val_loss: 0.1289 - val_accuracy: 0.9767\n",
            "Epoch 5/10\n",
            "1688/1688 [==============================] - 8s 5ms/step - loss: 0.2218 - accuracy: 0.9353 - val_loss: 0.0970 - val_accuracy: 0.9825\n",
            "Epoch 6/10\n",
            "1688/1688 [==============================] - 8s 5ms/step - loss: 0.1970 - accuracy: 0.9433 - val_loss: 0.0869 - val_accuracy: 0.9830\n",
            "Epoch 7/10\n",
            "1688/1688 [==============================] - 9s 5ms/step - loss: 0.1828 - accuracy: 0.9485 - val_loss: 0.0816 - val_accuracy: 0.9837\n",
            "Epoch 8/10\n",
            "1688/1688 [==============================] - 8s 5ms/step - loss: 0.1718 - accuracy: 0.9523 - val_loss: 0.0788 - val_accuracy: 0.9832\n",
            "Epoch 9/10\n",
            "1688/1688 [==============================] - 8s 5ms/step - loss: 0.1600 - accuracy: 0.9545 - val_loss: 0.0785 - val_accuracy: 0.9830\n",
            "Epoch 10/10\n",
            "1688/1688 [==============================] - 8s 5ms/step - loss: 0.1526 - accuracy: 0.9568 - val_loss: 0.0845 - val_accuracy: 0.9835\n",
            "lr: 0.000953 reg: 0.000037\n",
            "Epoch 1/10\n",
            "1688/1688 [==============================] - 9s 5ms/step - loss: 1.5351 - accuracy: 0.5479 - val_loss: 0.1905 - val_accuracy: 0.9602\n",
            "Epoch 2/10\n",
            "1688/1688 [==============================] - 8s 5ms/step - loss: 0.3411 - accuracy: 0.9044 - val_loss: 0.1066 - val_accuracy: 0.9798\n",
            "Epoch 3/10\n",
            "1688/1688 [==============================] - 9s 5ms/step - loss: 0.2573 - accuracy: 0.9312 - val_loss: 0.1058 - val_accuracy: 0.9777\n",
            "Epoch 4/10\n",
            "1688/1688 [==============================] - 8s 5ms/step - loss: 0.2206 - accuracy: 0.9416 - val_loss: 0.1276 - val_accuracy: 0.9797\n",
            "Epoch 5/10\n",
            "1688/1688 [==============================] - 8s 5ms/step - loss: 0.2076 - accuracy: 0.9465 - val_loss: 0.1284 - val_accuracy: 0.9765\n",
            "Epoch 6/10\n",
            "1688/1688 [==============================] - 8s 5ms/step - loss: 0.2036 - accuracy: 0.9475 - val_loss: 0.0855 - val_accuracy: 0.9855\n",
            "Epoch 7/10\n",
            "1688/1688 [==============================] - 9s 5ms/step - loss: 0.1916 - accuracy: 0.9536 - val_loss: 0.0882 - val_accuracy: 0.9840\n",
            "Epoch 8/10\n",
            "1688/1688 [==============================] - 9s 5ms/step - loss: 0.1895 - accuracy: 0.9531 - val_loss: 0.0802 - val_accuracy: 0.9865\n",
            "Epoch 9/10\n",
            "1688/1688 [==============================] - 8s 5ms/step - loss: 0.1836 - accuracy: 0.9548 - val_loss: 0.0796 - val_accuracy: 0.9867\n",
            "Epoch 10/10\n",
            "1688/1688 [==============================] - 8s 5ms/step - loss: 0.1732 - accuracy: 0.9589 - val_loss: 0.0807 - val_accuracy: 0.9853\n",
            "lr: 0.000382 reg: 0.000015\n",
            "Epoch 1/10\n",
            "1688/1688 [==============================] - 9s 5ms/step - loss: 2.6734 - accuracy: 0.1134 - val_loss: 2.3087 - val_accuracy: 0.1065\n",
            "Epoch 2/10\n",
            "1688/1688 [==============================] - 8s 5ms/step - loss: 1.4370 - accuracy: 0.4838 - val_loss: 0.1947 - val_accuracy: 0.9567\n",
            "Epoch 3/10\n",
            "1688/1688 [==============================] - 8s 5ms/step - loss: 0.3680 - accuracy: 0.8938 - val_loss: 0.1298 - val_accuracy: 0.9730\n",
            "Epoch 4/10\n",
            "1688/1688 [==============================] - 8s 5ms/step - loss: 0.2464 - accuracy: 0.9294 - val_loss: 0.0994 - val_accuracy: 0.9802\n",
            "Epoch 5/10\n",
            "1688/1688 [==============================] - 8s 5ms/step - loss: 0.1956 - accuracy: 0.9447 - val_loss: 0.0775 - val_accuracy: 0.9838\n",
            "Epoch 6/10\n",
            "1688/1688 [==============================] - 8s 5ms/step - loss: 0.1675 - accuracy: 0.9526 - val_loss: 0.0716 - val_accuracy: 0.9845\n",
            "Epoch 7/10\n",
            "1688/1688 [==============================] - 8s 5ms/step - loss: 0.1464 - accuracy: 0.9579 - val_loss: 0.0659 - val_accuracy: 0.9870\n",
            "Epoch 8/10\n",
            "1688/1688 [==============================] - 8s 5ms/step - loss: 0.1327 - accuracy: 0.9625 - val_loss: 0.0635 - val_accuracy: 0.9868\n",
            "Epoch 9/10\n",
            "1688/1688 [==============================] - 8s 5ms/step - loss: 0.1243 - accuracy: 0.9650 - val_loss: 0.0656 - val_accuracy: 0.9870\n",
            "Epoch 10/10\n",
            "1688/1688 [==============================] - 8s 5ms/step - loss: 0.1179 - accuracy: 0.9670 - val_loss: 0.0670 - val_accuracy: 0.9880\n",
            "lr: 0.000914 reg: 0.000091\n",
            "Epoch 1/10\n",
            "1688/1688 [==============================] - 9s 5ms/step - loss: 1.5585 - accuracy: 0.5306 - val_loss: 0.2898 - val_accuracy: 0.9482\n",
            "Epoch 2/10\n",
            "1688/1688 [==============================] - 8s 5ms/step - loss: 0.4225 - accuracy: 0.8846 - val_loss: 0.1996 - val_accuracy: 0.9698\n",
            "Epoch 3/10\n",
            "1688/1688 [==============================] - 8s 5ms/step - loss: 0.3067 - accuracy: 0.9219 - val_loss: 0.1397 - val_accuracy: 0.9738\n",
            "Epoch 4/10\n",
            "1688/1688 [==============================] - 8s 5ms/step - loss: 0.2717 - accuracy: 0.9302 - val_loss: 0.1339 - val_accuracy: 0.9790\n",
            "Epoch 5/10\n",
            "1688/1688 [==============================] - 8s 5ms/step - loss: 0.2462 - accuracy: 0.9385 - val_loss: 0.1245 - val_accuracy: 0.9810\n",
            "Epoch 6/10\n",
            "1688/1688 [==============================] - 8s 5ms/step - loss: 0.2299 - accuracy: 0.9439 - val_loss: 0.1086 - val_accuracy: 0.9820\n",
            "Epoch 7/10\n",
            "1688/1688 [==============================] - 8s 5ms/step - loss: 0.2225 - accuracy: 0.9474 - val_loss: 0.1049 - val_accuracy: 0.9847\n",
            "Epoch 8/10\n",
            "1688/1688 [==============================] - 8s 5ms/step - loss: 0.2158 - accuracy: 0.9498 - val_loss: 0.1164 - val_accuracy: 0.9822\n",
            "Epoch 9/10\n",
            "1688/1688 [==============================] - 8s 5ms/step - loss: 0.2004 - accuracy: 0.9542 - val_loss: 0.1308 - val_accuracy: 0.9770\n",
            "Epoch 10/10\n",
            "1688/1688 [==============================] - 9s 5ms/step - loss: 0.2027 - accuracy: 0.9541 - val_loss: 0.1119 - val_accuracy: 0.9828\n"
          ]
        }
      ]
    },
    {
      "cell_type": "code",
      "source": [
        "# Empirically chosen from testing in previous cell\n",
        "lr = 0.000382\n",
        "reg = 0.000015"
      ],
      "metadata": {
        "id": "aIfahgEYWn-q"
      },
      "execution_count": 20,
      "outputs": []
    },
    {
      "cell_type": "code",
      "source": [
        "# Implement the chosen values in a final model\n",
        "\n",
        "model = tf.keras.models.Sequential()\n",
        "\n",
        "model.add(tf.keras.layers.Input(shape=X_train.shape[1:]))\n",
        "\n",
        "model.add(tf.keras.layers.Dropout(dropout))\n",
        "\n",
        "for _ in range(conv):\n",
        "  model.add(tf.keras.layers.Conv2D(64, (3, 3), padding='same', activation='relu', kernel_regularizer=tf.keras.regularizers.L2(reg)))\n",
        "  model.add(tf.keras.layers.MaxPool2D())\n",
        "  model.add(tf.keras.layers.Dropout(dropout))\n",
        "\n",
        "model.add(tf.keras.layers.Flatten())\n",
        "\n",
        "for _ in range(affine):\n",
        "  model.add(tf.keras.layers.Dense(128, activation='relu', kernel_regularizer=tf.keras.regularizers.L2(reg)))\n",
        "  model.add(tf.keras.layers.Dropout(dropout))\n",
        "\n",
        "model.add(tf.keras.layers.Dense(10, activation='softmax', kernel_regularizer=tf.keras.regularizers.L2(reg)))\n",
        "\n",
        "model.compile(loss='sparse_categorical_crossentropy', optimizer=tf.keras.optimizers.Adam(lr), metrics=['accuracy'])\n",
        "\n",
        "model.fit(X_train, y_train, batch_size=32, epochs=10, validation_split=0.1, shuffle=True, verbose=1)"
      ],
      "metadata": {
        "colab": {
          "base_uri": "https://localhost:8080/"
        },
        "id": "bmERV5jFWvr6",
        "outputId": "22cacd81-eb9f-4a81-b428-21b2194d8171"
      },
      "execution_count": 28,
      "outputs": [
        {
          "output_type": "stream",
          "name": "stdout",
          "text": [
            "Epoch 1/10\n",
            "1688/1688 [==============================] - 9s 5ms/step - loss: 2.1006 - accuracy: 0.4008 - val_loss: 0.3650 - val_accuracy: 0.9280\n",
            "Epoch 2/10\n",
            "1688/1688 [==============================] - 8s 5ms/step - loss: 0.4929 - accuracy: 0.8521 - val_loss: 0.1755 - val_accuracy: 0.9633\n",
            "Epoch 3/10\n",
            "1688/1688 [==============================] - 8s 5ms/step - loss: 0.3084 - accuracy: 0.9095 - val_loss: 0.1165 - val_accuracy: 0.9765\n",
            "Epoch 4/10\n",
            "1688/1688 [==============================] - 8s 5ms/step - loss: 0.2346 - accuracy: 0.9313 - val_loss: 0.0907 - val_accuracy: 0.9802\n",
            "Epoch 5/10\n",
            "1688/1688 [==============================] - 8s 5ms/step - loss: 0.1943 - accuracy: 0.9454 - val_loss: 0.0826 - val_accuracy: 0.9805\n",
            "Epoch 6/10\n",
            "1688/1688 [==============================] - 8s 5ms/step - loss: 0.1704 - accuracy: 0.9520 - val_loss: 0.0658 - val_accuracy: 0.9868\n",
            "Epoch 7/10\n",
            "1688/1688 [==============================] - 8s 5ms/step - loss: 0.1499 - accuracy: 0.9576 - val_loss: 0.0695 - val_accuracy: 0.9873\n",
            "Epoch 8/10\n",
            "1688/1688 [==============================] - 8s 5ms/step - loss: 0.1404 - accuracy: 0.9604 - val_loss: 0.0705 - val_accuracy: 0.9848\n",
            "Epoch 9/10\n",
            "1688/1688 [==============================] - 8s 5ms/step - loss: 0.1298 - accuracy: 0.9641 - val_loss: 0.0670 - val_accuracy: 0.9853\n",
            "Epoch 10/10\n",
            "1688/1688 [==============================] - 10s 6ms/step - loss: 0.1186 - accuracy: 0.9673 - val_loss: 0.0581 - val_accuracy: 0.9863\n"
          ]
        },
        {
          "output_type": "execute_result",
          "data": {
            "text/plain": [
              "<keras.callbacks.History at 0x7fe180720e90>"
            ]
          },
          "metadata": {},
          "execution_count": 28
        }
      ]
    },
    {
      "cell_type": "code",
      "source": [
        "# Evaluate it on a set the model has never seen\n",
        "model.evaluate(X_test, y_test)"
      ],
      "metadata": {
        "colab": {
          "base_uri": "https://localhost:8080/"
        },
        "id": "0O4S-DjQWzn4",
        "outputId": "bc38fc3b-7350-4137-c05b-0a8539aaa092"
      },
      "execution_count": 37,
      "outputs": [
        {
          "output_type": "stream",
          "name": "stdout",
          "text": [
            "313/313 [==============================] - 1s 3ms/step - loss: 0.0564 - accuracy: 0.9873\n"
          ]
        },
        {
          "output_type": "execute_result",
          "data": {
            "text/plain": [
              "[0.05641253665089607, 0.9872999787330627]"
            ]
          },
          "metadata": {},
          "execution_count": 37
        }
      ]
    },
    {
      "cell_type": "code",
      "source": [
        "# install tfmot for quantization\n",
        "pip install -q tensorflow-model-optimization"
      ],
      "metadata": {
        "colab": {
          "base_uri": "https://localhost:8080/"
        },
        "id": "ErdbUZBnZYcn",
        "outputId": "bb9c290b-cb46-47d9-e393-e798a35da5e1"
      },
      "execution_count": 30,
      "outputs": [
        {
          "output_type": "stream",
          "name": "stdout",
          "text": [
            "\u001b[?25l\r\u001b[K     |█▍                              | 10 kB 24.8 MB/s eta 0:00:01\r\u001b[K     |██▊                             | 20 kB 11.8 MB/s eta 0:00:01\r\u001b[K     |████▏                           | 30 kB 9.3 MB/s eta 0:00:01\r\u001b[K     |█████▌                          | 40 kB 8.4 MB/s eta 0:00:01\r\u001b[K     |███████                         | 51 kB 4.3 MB/s eta 0:00:01\r\u001b[K     |████████▎                       | 61 kB 5.1 MB/s eta 0:00:01\r\u001b[K     |█████████▋                      | 71 kB 5.5 MB/s eta 0:00:01\r\u001b[K     |███████████                     | 81 kB 5.7 MB/s eta 0:00:01\r\u001b[K     |████████████▍                   | 92 kB 6.4 MB/s eta 0:00:01\r\u001b[K     |█████████████▉                  | 102 kB 5.2 MB/s eta 0:00:01\r\u001b[K     |███████████████▏                | 112 kB 5.2 MB/s eta 0:00:01\r\u001b[K     |████████████████▌               | 122 kB 5.2 MB/s eta 0:00:01\r\u001b[K     |██████████████████              | 133 kB 5.2 MB/s eta 0:00:01\r\u001b[K     |███████████████████▎            | 143 kB 5.2 MB/s eta 0:00:01\r\u001b[K     |████████████████████▊           | 153 kB 5.2 MB/s eta 0:00:01\r\u001b[K     |██████████████████████          | 163 kB 5.2 MB/s eta 0:00:01\r\u001b[K     |███████████████████████▌        | 174 kB 5.2 MB/s eta 0:00:01\r\u001b[K     |████████████████████████▉       | 184 kB 5.2 MB/s eta 0:00:01\r\u001b[K     |██████████████████████████▏     | 194 kB 5.2 MB/s eta 0:00:01\r\u001b[K     |███████████████████████████▋    | 204 kB 5.2 MB/s eta 0:00:01\r\u001b[K     |█████████████████████████████   | 215 kB 5.2 MB/s eta 0:00:01\r\u001b[K     |██████████████████████████████▍ | 225 kB 5.2 MB/s eta 0:00:01\r\u001b[K     |███████████████████████████████▊| 235 kB 5.2 MB/s eta 0:00:01\r\u001b[K     |████████████████████████████████| 237 kB 5.2 MB/s \n",
            "\u001b[?25h"
          ]
        }
      ]
    },
    {
      "cell_type": "code",
      "source": [
        "# import tfmot\n",
        "import tensorflow_model_optimization as tfmot"
      ],
      "metadata": {
        "id": "IArcOBKUZ8mG"
      },
      "execution_count": 31,
      "outputs": []
    },
    {
      "cell_type": "code",
      "source": [
        "# Quantize the model\n",
        "q_aware_model = tfmot.quantization.keras.quantize_model(model)\n",
        "\n",
        "# Set loss and optimizer again\n",
        "q_aware_model.compile(loss='sparse_categorical_crossentropy', optimizer=tf.keras.optimizers.Adam(lr), metrics=['accuracy'])\n",
        "\n",
        "# Print out model as sanity check\n",
        "q_aware_model.summary()\n",
        "\n",
        "# Perform fine tune training\n",
        "q_aware_model.fit(X_train, y_train, batch_size=32, epochs=3, validation_split=0.1, shuffle=True, verbose=1)"
      ],
      "metadata": {
        "colab": {
          "base_uri": "https://localhost:8080/"
        },
        "id": "PksmO895aBUJ",
        "outputId": "c334c173-a240-439c-8a01-6eed309b0658"
      },
      "execution_count": 39,
      "outputs": [
        {
          "output_type": "stream",
          "name": "stdout",
          "text": [
            "Model: \"sequential_45\"\n",
            "_________________________________________________________________\n",
            " Layer (type)                Output Shape              Param #   \n",
            "=================================================================\n",
            " quantize_layer_2 (QuantizeL  (None, 28, 28, 1)        3         \n",
            " ayer)                                                           \n",
            "                                                                 \n",
            " quant_dropout_256 (Quantize  (None, 28, 28, 1)        1         \n",
            " WrapperV2)                                                      \n",
            "                                                                 \n",
            " quant_conv2d_129 (QuantizeW  (None, 28, 28, 64)       771       \n",
            " rapperV2)                                                       \n",
            "                                                                 \n",
            " quant_max_pooling2d_129 (Qu  (None, 14, 14, 64)       1         \n",
            " antizeWrapperV2)                                                \n",
            "                                                                 \n",
            " quant_dropout_257 (Quantize  (None, 14, 14, 64)       1         \n",
            " WrapperV2)                                                      \n",
            "                                                                 \n",
            " quant_conv2d_130 (QuantizeW  (None, 14, 14, 64)       37059     \n",
            " rapperV2)                                                       \n",
            "                                                                 \n",
            " quant_max_pooling2d_130 (Qu  (None, 7, 7, 64)         1         \n",
            " antizeWrapperV2)                                                \n",
            "                                                                 \n",
            " quant_dropout_258 (Quantize  (None, 7, 7, 64)         1         \n",
            " WrapperV2)                                                      \n",
            "                                                                 \n",
            " quant_conv2d_131 (QuantizeW  (None, 7, 7, 64)         37059     \n",
            " rapperV2)                                                       \n",
            "                                                                 \n",
            " quant_max_pooling2d_131 (Qu  (None, 3, 3, 64)         1         \n",
            " antizeWrapperV2)                                                \n",
            "                                                                 \n",
            " quant_dropout_259 (Quantize  (None, 3, 3, 64)         1         \n",
            " WrapperV2)                                                      \n",
            "                                                                 \n",
            " quant_flatten_45 (QuantizeW  (None, 576)              1         \n",
            " rapperV2)                                                       \n",
            "                                                                 \n",
            " quant_dense_133 (QuantizeWr  (None, 128)              73861     \n",
            " apperV2)                                                        \n",
            "                                                                 \n",
            " quant_dropout_260 (Quantize  (None, 128)              1         \n",
            " WrapperV2)                                                      \n",
            "                                                                 \n",
            " quant_dense_134 (QuantizeWr  (None, 128)              16517     \n",
            " apperV2)                                                        \n",
            "                                                                 \n",
            " quant_dropout_261 (Quantize  (None, 128)              1         \n",
            " WrapperV2)                                                      \n",
            "                                                                 \n",
            " quant_dense_135 (QuantizeWr  (None, 10)               1295      \n",
            " apperV2)                                                        \n",
            "                                                                 \n",
            "=================================================================\n",
            "Total params: 166,575\n",
            "Trainable params: 166,154\n",
            "Non-trainable params: 421\n",
            "_________________________________________________________________\n",
            "Epoch 1/4\n",
            "1688/1688 [==============================] - 21s 12ms/step - loss: 0.1277 - accuracy: 0.9665 - val_loss: 0.0535 - val_accuracy: 0.9878\n",
            "Epoch 2/4\n",
            "1688/1688 [==============================] - 20s 12ms/step - loss: 0.1105 - accuracy: 0.9695 - val_loss: 0.0551 - val_accuracy: 0.9880\n",
            "Epoch 3/4\n",
            "1688/1688 [==============================] - 20s 12ms/step - loss: 0.1030 - accuracy: 0.9702 - val_loss: 0.0597 - val_accuracy: 0.9880\n",
            "Epoch 4/4\n",
            "1688/1688 [==============================] - 21s 12ms/step - loss: 0.1031 - accuracy: 0.9715 - val_loss: 0.0660 - val_accuracy: 0.9838\n"
          ]
        },
        {
          "output_type": "execute_result",
          "data": {
            "text/plain": [
              "<keras.callbacks.History at 0x7fe20f25e750>"
            ]
          },
          "metadata": {},
          "execution_count": 39
        }
      ]
    },
    {
      "cell_type": "code",
      "source": [
        "# Evaluate the quantized model\n",
        "q_aware_model.evaluate(X_test, y_test)"
      ],
      "metadata": {
        "colab": {
          "base_uri": "https://localhost:8080/"
        },
        "id": "mnM9J3Yzc_9U",
        "outputId": "fc1e22d3-32b4-4010-93aa-ff68653f8758"
      },
      "execution_count": 40,
      "outputs": [
        {
          "output_type": "stream",
          "name": "stdout",
          "text": [
            "313/313 [==============================] - 2s 6ms/step - loss: 0.0654 - accuracy: 0.9845\n"
          ]
        },
        {
          "output_type": "execute_result",
          "data": {
            "text/plain": [
              "[0.06544925272464752, 0.984499990940094]"
            ]
          },
          "metadata": {},
          "execution_count": 40
        }
      ]
    },
    {
      "cell_type": "code",
      "source": [
        "# Convert the quantized model to TFLite format for high speed inference\n",
        "converter = tf.lite.TFLiteConverter.from_keras_model(q_aware_model)\n",
        "converter.optimizations = [tf.lite.Optimize.DEFAULT]\n",
        "\n",
        "quantized_tflite_model = converter.convert()"
      ],
      "metadata": {
        "colab": {
          "base_uri": "https://localhost:8080/"
        },
        "id": "MtWOUoNQdDoO",
        "outputId": "b486559b-92f4-4a51-e329-588f85475f7e"
      },
      "execution_count": 62,
      "outputs": [
        {
          "output_type": "stream",
          "name": "stderr",
          "text": [
            "WARNING:absl:Found untraced functions such as dropout_256_layer_call_fn, dropout_256_layer_call_and_return_conditional_losses, conv2d_129_layer_call_fn, conv2d_129_layer_call_and_return_conditional_losses, dropout_257_layer_call_fn while saving (showing 5 of 26). These functions will not be directly callable after loading.\n"
          ]
        },
        {
          "output_type": "stream",
          "name": "stdout",
          "text": [
            "INFO:tensorflow:Assets written to: /tmp/tmph69e0k1a/assets\n"
          ]
        },
        {
          "output_type": "stream",
          "name": "stderr",
          "text": [
            "INFO:tensorflow:Assets written to: /tmp/tmph69e0k1a/assets\n",
            "/usr/local/lib/python3.7/dist-packages/tensorflow/lite/python/convert.py:746: UserWarning: Statistics for quantized inputs were expected, but not specified; continuing anyway.\n",
            "  warnings.warn(\"Statistics for quantized inputs were expected, but not \"\n",
            "WARNING:absl:Buffer deduplication procedure will be skipped when flatbuffer library is not properly loaded\n"
          ]
        }
      ]
    },
    {
      "cell_type": "code",
      "source": [
        "# Evaluation method for TFLite model\n",
        "def evaluate_model(interpreter):\n",
        "  input_index = interpreter.get_input_details()[0][\"index\"]\n",
        "  output_index = interpreter.get_output_details()[0][\"index\"]\n",
        "\n",
        "  correct_num = 0\n",
        "\n",
        "  # Run predictions on every image in the \"test\" dataset.\n",
        "  for i, test_image in enumerate(X_test):\n",
        "    # Pre-processing: add batch dimension and convert to float32 to match with\n",
        "    # the model's input data format.\n",
        "    test_image = np.expand_dims(test_image, axis=0).astype(np.float32)\n",
        "    interpreter.set_tensor(input_index, test_image)\n",
        "\n",
        "    # Run inference.\n",
        "    interpreter.invoke()\n",
        "\n",
        "    # Post-processing: remove batch dimension and find the digit with highest\n",
        "    # probability.\n",
        "    output = np.argmax(interpreter.get_tensor(output_index)[0])\n",
        "\n",
        "    correct_num += int(output == y_test[i])\n",
        "\n",
        "  accuracy = correct_num / len(X_test)\n",
        "\n",
        "  return accuracy"
      ],
      "metadata": {
        "id": "fSOMB5O0dLsL"
      },
      "execution_count": 63,
      "outputs": []
    },
    {
      "cell_type": "code",
      "source": [
        "# Set up interpreter and evaluate TFLite model\n",
        "interpreter = tf.lite.Interpreter(model_content=quantized_tflite_model)\n",
        "interpreter.allocate_tensors()\n",
        "\n",
        "test_accuracy = evaluate_model(interpreter)\n",
        "\n",
        "print('Quant TFLite test_accuracy:', test_accuracy)"
      ],
      "metadata": {
        "colab": {
          "base_uri": "https://localhost:8080/"
        },
        "id": "mJK7kTgUdSTe",
        "outputId": "2a43ee56-f0e0-4a76-83c2-02699bdfccea"
      },
      "execution_count": 64,
      "outputs": [
        {
          "output_type": "stream",
          "name": "stdout",
          "text": [
            "Quant TFLite test_accuracy: 0.9844\n"
          ]
        }
      ]
    },
    {
      "cell_type": "code",
      "source": [
        "# Switch mounted drive directory into desired directory\n",
        "%cd '/content/gdrive/My Drive/APCSA_MNIST/'"
      ],
      "metadata": {
        "colab": {
          "base_uri": "https://localhost:8080/"
        },
        "id": "mTgtfeNZiQSL",
        "outputId": "f3288352-11b1-459f-d500-6a7724bb2b83"
      },
      "execution_count": 65,
      "outputs": [
        {
          "output_type": "stream",
          "name": "stdout",
          "text": [
            "/content/gdrive/My Drive/APCSA_MNIST\n"
          ]
        }
      ]
    },
    {
      "cell_type": "code",
      "source": [
        "# import time so that every model save has a unique name\n",
        "import time"
      ],
      "metadata": {
        "id": "3tkpDtBmiWPE"
      },
      "execution_count": 67,
      "outputs": []
    },
    {
      "cell_type": "code",
      "source": [
        "# save TFLite model in drive for download onto computer\n",
        "with open(\"quant-default-\" + str(int(time.time())) + \".tflite\", \"wb\") as f:\n",
        "  f.write(quantized_tflite_model)"
      ],
      "metadata": {
        "id": "liQK-A2nh8c3"
      },
      "execution_count": 68,
      "outputs": []
    }
  ]
}